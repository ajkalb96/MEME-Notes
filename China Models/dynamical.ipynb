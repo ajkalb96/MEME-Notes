{
 "cells": [
  {
   "cell_type": "code",
   "execution_count": 8,
   "id": "76917e65",
   "metadata": {},
   "outputs": [],
   "source": [
    "import numpy as np\n",
    "import matplotlib.pyplot as plt\n",
    "import pandas as pd\n",
    "plt.style.use('dark_background')\n",
    "\n",
    "from scipy.optimize import root\n",
    "from scipy.integrate import solve_ivp\n",
    "from numpy.linalg import eig"
   ]
  },
  {
   "cell_type": "code",
   "execution_count": 9,
   "id": "ea2fbddb",
   "metadata": {},
   "outputs": [],
   "source": [
    "def numerical_jacobian(f, g, x0, h=1e-5):\n",
    "    x, y = x0\n",
    "\n",
    "    df_dx = (f(x + h, y) - f(x - h, y)) / (2 * h)\n",
    "    df_dy = (f(x, y + h) - f(x, y - h)) / (2 * h)\n",
    "    dg_dx = (g(x + h, y) - g(x - h, y)) / (2 * h)\n",
    "    dg_dy = (g(x, y + h) - g(x, y - h)) / (2 * h)\n",
    "\n",
    "    return np.array([[df_dx, df_dy], [dg_dx, dg_dy]])\n",
    "\n",
    "def find_fixed_points(x_range, y_range, f, g, resolution=30, tol=1e-5):\n",
    "    x_vals = np.linspace(*x_range, resolution)\n",
    "    y_vals = np.linspace(*y_range, resolution)\n",
    "    fixed_points = []\n",
    "\n",
    "    for x in x_vals:\n",
    "        for y in y_vals:\n",
    "            sol = root(lambda v: [f(v[0], v[1]), g(v[0], v[1])], [x, y])\n",
    "            if sol.success:\n",
    "                pt = tuple(np.round(sol.x, decimals=5))\n",
    "                if pt not in fixed_points:\n",
    "                    fixed_points.append(pt)\n",
    "    return fixed_points\n",
    "\n",
    "def plot_phase_portrait(x_range, y_range, f, g, density=20, stream=False):\n",
    "    x = np.linspace(*x_range, density)\n",
    "    y = np.linspace(*y_range, density)\n",
    "    X, Y = np.meshgrid(x, y)\n",
    "    U, V = f(X,Y), g(X,Y)\n",
    "    fixed_points = find_fixed_points(x_range,y_range,f,g)\n",
    "\n",
    "    fig, ax = plt.subplots(figsize=(8, 8))\n",
    "    \n",
    "    if stream:\n",
    "        ax.streamplot(X, Y, U, V,color='lightgray')\n",
    "    else:\n",
    "        ax.quiver(X, Y, U, V, color='tab:blue')\n",
    "\n",
    "    for point in fixed_points:\n",
    "        x0, y0 = point\n",
    "        J = numerical_jacobian(f, g, (x0, y0))\n",
    "        eigvals, eigvecs = eig(J)\n",
    "\n",
    "        for val, vec in zip(eigvals, eigvecs.T):\n",
    "            direction = vec / np.linalg.norm(vec)\n",
    "            real = np.real(val)\n",
    "            tol = 1e-4\n",
    "            color = 'tab:red' if real > tol else 'tab:green' if real < -tol else 'tab:olive'\n",
    "            if np.imag(val) != 0:\n",
    "                # Complex eigenvalues: draw blue circle\n",
    "                circle = plt.Circle((x0, y0), np.imag(val), color=color, fill=False, alpha=0.7)\n",
    "                ax.add_artist(circle)\n",
    "            else:\n",
    "                # Real eigenvalues: draw lines\n",
    "                dx, dy = direction * 0.5\n",
    "                ax.plot([x0 - dx, x0 + dx], [y0 - dy, y0 + dy], color=color, linewidth=2, alpha=0.7)\n",
    "\n",
    "        ax.plot(x0, y0, 'wo')  # mark the fixed point\n",
    "\n",
    "    ax.set_xlim(*x_range)\n",
    "    ax.set_ylim(*y_range)\n",
    "    ax.set_xlabel('x')\n",
    "    ax.set_ylabel('y')\n",
    "    ax.set_aspect('equal')\n",
    "    ax.grid(True, linestyle='--', color='darkgray', linewidth=0.8, zorder=0)\n",
    "    return fig, ax"
   ]
  },
  {
   "cell_type": "markdown",
   "id": "d681d139",
   "metadata": {},
   "source": [
    "# IMAGES"
   ]
  },
  {
   "cell_type": "code",
   "execution_count": null,
   "id": "3847e8e9",
   "metadata": {},
   "outputs": [
    {
     "ename": "TypeError",
     "evalue": "only integer scalar arrays can be converted to a scalar index",
     "output_type": "error",
     "traceback": [
      "\u001b[31m---------------------------------------------------------------------------\u001b[39m",
      "\u001b[31mTypeError\u001b[39m                                 Traceback (most recent call last)",
      "\u001b[36mCell\u001b[39m\u001b[36m \u001b[39m\u001b[32mIn[11]\u001b[39m\u001b[32m, line 17\u001b[39m\n\u001b[32m     15\u001b[39m f = \u001b[38;5;28;01mlambda\u001b[39;00m x,y: xdot(x,y)\n\u001b[32m     16\u001b[39m g = \u001b[38;5;28;01mlambda\u001b[39;00m x,y: ydot(x,y)\n\u001b[32m---> \u001b[39m\u001b[32m17\u001b[39m fig, ax = \u001b[43mplot_phase_portrait\u001b[49m\u001b[43m(\u001b[49m\u001b[43mx_range\u001b[49m\u001b[43m,\u001b[49m\u001b[43m \u001b[49m\u001b[43my_range\u001b[49m\u001b[43m,\u001b[49m\u001b[43m \u001b[49m\u001b[43mf\u001b[49m\u001b[43m,\u001b[49m\u001b[43m \u001b[49m\u001b[43mg\u001b[49m\u001b[43m,\u001b[49m\u001b[43m \u001b[49m\u001b[43mdensity\u001b[49m\u001b[43m=\u001b[49m\u001b[32;43m15\u001b[39;49m\u001b[43m,\u001b[49m\u001b[43mstream\u001b[49m\u001b[43m=\u001b[49m\u001b[38;5;28;43;01mTrue\u001b[39;49;00m\u001b[43m)\u001b[49m\n\u001b[32m     20\u001b[39m \u001b[38;5;66;03m# Add a particular trajectory\u001b[39;00m\n\u001b[32m     21\u001b[39m t_span = (\u001b[32m0\u001b[39m, \u001b[32m45\u001b[39m)\n",
      "\u001b[36mCell\u001b[39m\u001b[36m \u001b[39m\u001b[32mIn[9]\u001b[39m\u001b[32m, line 29\u001b[39m, in \u001b[36mplot_phase_portrait\u001b[39m\u001b[34m(x_range, y_range, f, g, density, stream)\u001b[39m\n\u001b[32m     27\u001b[39m y = np.linspace(*y_range, density)\n\u001b[32m     28\u001b[39m X, Y = np.meshgrid(x, y)\n\u001b[32m---> \u001b[39m\u001b[32m29\u001b[39m U, V = \u001b[43mf\u001b[49m\u001b[43m(\u001b[49m\u001b[43mX\u001b[49m\u001b[43m,\u001b[49m\u001b[43mY\u001b[49m\u001b[43m)\u001b[49m, g(X,Y)\n\u001b[32m     30\u001b[39m fixed_points = find_fixed_points(x_range,y_range,f,g)\n\u001b[32m     32\u001b[39m fig, ax = plt.subplots(figsize=(\u001b[32m8\u001b[39m, \u001b[32m8\u001b[39m))\n",
      "\u001b[36mCell\u001b[39m\u001b[36m \u001b[39m\u001b[32mIn[11]\u001b[39m\u001b[32m, line 15\u001b[39m, in \u001b[36m<lambda>\u001b[39m\u001b[34m(x, y)\u001b[39m\n\u001b[32m     12\u001b[39m x_range = (-\u001b[32m1\u001b[39m, \u001b[32m4\u001b[39m)\n\u001b[32m     13\u001b[39m y_range = (-\u001b[32m1\u001b[39m, \u001b[32m4\u001b[39m)\n\u001b[32m---> \u001b[39m\u001b[32m15\u001b[39m f = \u001b[38;5;28;01mlambda\u001b[39;00m x,y: \u001b[43mxdot\u001b[49m\u001b[43m(\u001b[49m\u001b[43mx\u001b[49m\u001b[43m,\u001b[49m\u001b[43my\u001b[49m\u001b[43m)\u001b[49m\n\u001b[32m     16\u001b[39m g = \u001b[38;5;28;01mlambda\u001b[39;00m x,y: ydot(x,y)\n\u001b[32m     17\u001b[39m fig, ax = plot_phase_portrait(x_range, y_range, f, g, density=\u001b[32m15\u001b[39m,stream=\u001b[38;5;28;01mTrue\u001b[39;00m)\n",
      "\u001b[36mCell\u001b[39m\u001b[36m \u001b[39m\u001b[32mIn[11]\u001b[39m\u001b[32m, line 3\u001b[39m, in \u001b[36mxdot\u001b[39m\u001b[34m(x, y)\u001b[39m\n\u001b[32m      2\u001b[39m \u001b[38;5;28;01mdef\u001b[39;00m\u001b[38;5;250m \u001b[39m\u001b[34mxdot\u001b[39m(x, y):\n\u001b[32m----> \u001b[39m\u001b[32m3\u001b[39m     \u001b[38;5;28;01mreturn\u001b[39;00m -c*x + a*b*\u001b[43mnp\u001b[49m\u001b[43m.\u001b[49m\u001b[43mmin\u001b[49m\u001b[43m(\u001b[49m\u001b[43mx\u001b[49m\u001b[43m,\u001b[49m\u001b[43my\u001b[49m\u001b[43m)\u001b[49m\n",
      "\u001b[36mFile \u001b[39m\u001b[32m~\\AppData\\Roaming\\Python\\Python313\\site-packages\\numpy\\_core\\fromnumeric.py:3302\u001b[39m, in \u001b[36mmin\u001b[39m\u001b[34m(a, axis, out, keepdims, initial, where)\u001b[39m\n\u001b[32m   3190\u001b[39m \u001b[38;5;129m@array_function_dispatch\u001b[39m(_min_dispatcher)\n\u001b[32m   3191\u001b[39m \u001b[38;5;28;01mdef\u001b[39;00m\u001b[38;5;250m \u001b[39m\u001b[34mmin\u001b[39m(a, axis=\u001b[38;5;28;01mNone\u001b[39;00m, out=\u001b[38;5;28;01mNone\u001b[39;00m, keepdims=np._NoValue, initial=np._NoValue,\n\u001b[32m   3192\u001b[39m         where=np._NoValue):\n\u001b[32m   3193\u001b[39m \u001b[38;5;250m    \u001b[39m\u001b[33;03m\"\"\"\u001b[39;00m\n\u001b[32m   3194\u001b[39m \u001b[33;03m    Return the minimum of an array or minimum along an axis.\u001b[39;00m\n\u001b[32m   3195\u001b[39m \n\u001b[32m   (...)\u001b[39m\u001b[32m   3300\u001b[39m \u001b[33;03m    6\u001b[39;00m\n\u001b[32m   3301\u001b[39m \u001b[33;03m    \"\"\"\u001b[39;00m\n\u001b[32m-> \u001b[39m\u001b[32m3302\u001b[39m     \u001b[38;5;28;01mreturn\u001b[39;00m \u001b[43m_wrapreduction\u001b[49m\u001b[43m(\u001b[49m\u001b[43ma\u001b[49m\u001b[43m,\u001b[49m\u001b[43m \u001b[49m\u001b[43mnp\u001b[49m\u001b[43m.\u001b[49m\u001b[43mminimum\u001b[49m\u001b[43m,\u001b[49m\u001b[43m \u001b[49m\u001b[33;43m'\u001b[39;49m\u001b[33;43mmin\u001b[39;49m\u001b[33;43m'\u001b[39;49m\u001b[43m,\u001b[49m\u001b[43m \u001b[49m\u001b[43maxis\u001b[49m\u001b[43m,\u001b[49m\u001b[43m \u001b[49m\u001b[38;5;28;43;01mNone\u001b[39;49;00m\u001b[43m,\u001b[49m\u001b[43m \u001b[49m\u001b[43mout\u001b[49m\u001b[43m,\u001b[49m\n\u001b[32m   3303\u001b[39m \u001b[43m                          \u001b[49m\u001b[43mkeepdims\u001b[49m\u001b[43m=\u001b[49m\u001b[43mkeepdims\u001b[49m\u001b[43m,\u001b[49m\u001b[43m \u001b[49m\u001b[43minitial\u001b[49m\u001b[43m=\u001b[49m\u001b[43minitial\u001b[49m\u001b[43m,\u001b[49m\u001b[43m \u001b[49m\u001b[43mwhere\u001b[49m\u001b[43m=\u001b[49m\u001b[43mwhere\u001b[49m\u001b[43m)\u001b[49m\n",
      "\u001b[36mFile \u001b[39m\u001b[32m~\\AppData\\Roaming\\Python\\Python313\\site-packages\\numpy\\_core\\fromnumeric.py:86\u001b[39m, in \u001b[36m_wrapreduction\u001b[39m\u001b[34m(obj, ufunc, method, axis, dtype, out, **kwargs)\u001b[39m\n\u001b[32m     83\u001b[39m         \u001b[38;5;28;01melse\u001b[39;00m:\n\u001b[32m     84\u001b[39m             \u001b[38;5;28;01mreturn\u001b[39;00m reduction(axis=axis, out=out, **passkwargs)\n\u001b[32m---> \u001b[39m\u001b[32m86\u001b[39m \u001b[38;5;28;01mreturn\u001b[39;00m \u001b[43mufunc\u001b[49m\u001b[43m.\u001b[49m\u001b[43mreduce\u001b[49m\u001b[43m(\u001b[49m\u001b[43mobj\u001b[49m\u001b[43m,\u001b[49m\u001b[43m \u001b[49m\u001b[43maxis\u001b[49m\u001b[43m,\u001b[49m\u001b[43m \u001b[49m\u001b[43mdtype\u001b[49m\u001b[43m,\u001b[49m\u001b[43m \u001b[49m\u001b[43mout\u001b[49m\u001b[43m,\u001b[49m\u001b[43m \u001b[49m\u001b[43m*\u001b[49m\u001b[43m*\u001b[49m\u001b[43mpasskwargs\u001b[49m\u001b[43m)\u001b[49m\n",
      "\u001b[31mTypeError\u001b[39m: only integer scalar arrays can be converted to a scalar index"
     ]
    }
   ],
   "source": [
    "a,b,c,d = 0.55, 0.02, 0.008, 0.01\n",
    "def xdot(x, y):\n",
    "    return -(c + a*b*y)*x\n",
    "\n",
    "def ydot(x, y):\n",
    "    return -(d + (1-a)*b*x)*y\n",
    "\n",
    "def system(t, z):\n",
    "    x, y = z\n",
    "    return [xdot(x, y), ydot(x, y)]\n",
    "\n",
    "x_range = (-1, 4)\n",
    "y_range = (-1, 4)\n",
    "\n",
    "f = lambda x,y: xdot(x,y)\n",
    "g = lambda x,y: ydot(x,y)\n",
    "fig, ax = plot_phase_portrait(x_range, y_range, f, g, density=15,stream=True)\n",
    "\n",
    "\n",
    "# Add a particular trajectory\n",
    "t_span = (0, 45)\n",
    "z0 = [2.7,2.7]  # initial condition\n",
    "t_eval = np.linspace(*t_span, 1000)\n",
    "sol = solve_ivp(system, t_span, z0, t_eval=t_eval)\n",
    "ax.plot(sol.y[0], sol.y[1], color='red', linewidth=2, label='1980-2025 Population')\n",
    "ax.legend()\n",
    "\n",
    "ax.set_title(f'Model I Population Trajectory a={a}',fontsize=20)\n",
    "ax.set_xlabel('Female',fontsize=18)\n",
    "ax.set_ylabel('Male',fontsize=18)\n",
    "fig.savefig(f\"flows/china_model\")\n",
    "plt.show()\n",
    "plt.close(fig)"
   ]
  },
  {
   "cell_type": "markdown",
   "id": "7ca6e88b",
   "metadata": {},
   "source": [
    "# VIDEO"
   ]
  },
  {
   "cell_type": "code",
   "execution_count": 13,
   "id": "dbf6563c",
   "metadata": {
    "vscode": {
     "languageId": "bat"
    }
   },
   "outputs": [
    {
     "name": "stdout",
     "output_type": "stream",
     "text": [
      "c:\\Users\\artka\\Videos\\MEME-DEEZ\\frames\\*, Are you sure (Y/N)? Y \n"
     ]
    }
   ],
   "source": [
    "!echo Y | del frames\\* "
   ]
  },
  {
   "cell_type": "code",
   "execution_count": 17,
   "id": "38855184",
   "metadata": {},
   "outputs": [],
   "source": [
    "def xdot(x, y, c):\n",
    "    return (x**2 - np.sign(c)*c**2)\n",
    "\n",
    "def ydot(x, y, c):\n",
    "    return y\n",
    "\n",
    "x_range = (-3, 3)\n",
    "y_range = (-3, 3)\n",
    "c_range = np.linspace(-1,1,101)\n",
    "\n",
    "for i, c in enumerate(c_range):\n",
    "    f = lambda x,y: xdot(x,y,c)\n",
    "    g = lambda x,y: ydot(x,y,c)\n",
    "    fig, ax = plot_phase_portrait(x_range, y_range, f, g)\n",
    "    ax.set_title(f'Saddle Node c = {c:.2f}')\n",
    "    fig.savefig(f\"frames/frame_{i:03d}\")\n",
    "    plt.close(fig)"
   ]
  },
  {
   "cell_type": "code",
   "execution_count": 18,
   "id": "a47f3548",
   "metadata": {
    "vscode": {
     "languageId": "bat"
    }
   },
   "outputs": [
    {
     "name": "stderr",
     "output_type": "stream",
     "text": [
      "ffmpeg version 7.1.1-essentials_build-www.gyan.dev Copyright (c) 2000-2025 the FFmpeg developers\n",
      "  built with gcc 14.2.0 (Rev1, Built by MSYS2 project)\n",
      "  configuration: --enable-gpl --enable-version3 --enable-static --disable-w32threads --disable-autodetect --enable-fontconfig --enable-iconv --enable-gnutls --enable-libxml2 --enable-gmp --enable-bzlib --enable-lzma --enable-zlib --enable-libsrt --enable-libssh --enable-libzmq --enable-avisynth --enable-sdl2 --enable-libwebp --enable-libx264 --enable-libx265 --enable-libxvid --enable-libaom --enable-libopenjpeg --enable-libvpx --enable-mediafoundation --enable-libass --enable-libfreetype --enable-libfribidi --enable-libharfbuzz --enable-libvidstab --enable-libvmaf --enable-libzimg --enable-amf --enable-cuda-llvm --enable-cuvid --enable-dxva2 --enable-d3d11va --enable-d3d12va --enable-ffnvcodec --enable-libvpl --enable-nvdec --enable-nvenc --enable-vaapi --enable-libgme --enable-libopenmpt --enable-libopencore-amrwb --enable-libmp3lame --enable-libtheora --enable-libvo-amrwbenc --enable-libgsm --enable-libopencore-amrnb --enable-libopus --enable-libspeex --enable-libvorbis --enable-librubberband\n",
      "  libavutil      59. 39.100 / 59. 39.100\n",
      "  libavcodec     61. 19.101 / 61. 19.101\n",
      "  libavformat    61.  7.100 / 61.  7.100\n",
      "  libavdevice    61.  3.100 / 61.  3.100\n",
      "  libavfilter    10.  4.100 / 10.  4.100\n",
      "  libswscale      8.  3.100 /  8.  3.100\n",
      "  libswresample   5.  3.100 /  5.  3.100\n",
      "  libpostproc    58.  3.100 / 58.  3.100\n",
      "Input #0, image2, from 'frames\\frame_%03d.png':\n",
      "  Duration: 00:00:04.04, start: 0.000000, bitrate: N/A\n",
      "  Stream #0:0: Video: png, rgba(pc, gbr/unknown/unknown), 800x800 [SAR 3937:3937 DAR 1:1], 25 fps, 25 tbr, 25 tbn\n",
      "File 'saddle_node.mp4' already exists. Overwrite? [y/N] Stream mapping:\n",
      "  Stream #0:0 -> #0:0 (png (native) -> h264 (libx264))\n",
      "Press [q] to stop, [?] for help\n",
      "[libx264 @ 000001607ad59dc0] using SAR=1/1\n",
      "[libx264 @ 000001607ad59dc0] using cpu capabilities: MMX2 SSE2Fast SSSE3 SSE4.2 AVX FMA3 BMI2 AVX2\n",
      "[libx264 @ 000001607ad59dc0] profile High, level 3.1, 4:2:0, 8-bit\n",
      "[libx264 @ 000001607ad59dc0] 264 - core 164 r3204 373697b - H.264/MPEG-4 AVC codec - Copyleft 2003-2025 - http://www.videolan.org/x264.html - options: cabac=1 ref=3 deblock=1:0:0 analyse=0x3:0x113 me=hex subme=7 psy=1 psy_rd=1.00:0.00 mixed_ref=1 me_range=16 chroma_me=1 trellis=1 8x8dct=1 cqm=0 deadzone=21,11 fast_pskip=1 chroma_qp_offset=-2 threads=24 lookahead_threads=4 sliced_threads=0 nr=0 decimate=1 interlaced=0 bluray_compat=0 constrained_intra=0 bframes=3 b_pyramid=2 b_adapt=1 b_bias=0 direct=1 weightb=1 open_gop=0 weightp=2 keyint=250 keyint_min=10 scenecut=40 intra_refresh=0 rc_lookahead=40 rc=crf mbtree=1 crf=23.0 qcomp=0.60 qpmin=0 qpmax=69 qpstep=4 ip_ratio=1.40 aq=1:1.00\n",
      "Output #0, mp4, to 'saddle_node.mp4':\n",
      "  Metadata:\n",
      "    encoder         : Lavf61.7.100\n",
      "  Stream #0:0: Video: h264 (avc1 / 0x31637661), yuv420p(tv, progressive), 800x800 [SAR 1:1 DAR 1:1], q=2-31, 10 fps, 10240 tbn\n",
      "      Metadata:\n",
      "        encoder         : Lavc61.19.101 libx264\n",
      "      Side data:\n",
      "        cpb: bitrate max/min/avg: 0/0/0 buffer size: 0 vbv_delay: N/A\n",
      "[out#0/mp4 @ 000001607ad10f80] video:272KiB audio:0KiB subtitle:0KiB other streams:0KiB global headers:0KiB muxing overhead: 0.672751%\n",
      "frame=  101 fps=0.0 q=-1.0 Lsize=     273KiB time=00:00:09.90 bitrate= 226.2kbits/s speed=27.4x    \n",
      "[libx264 @ 000001607ad59dc0] frame I:1     Avg QP:13.77  size: 59868\n",
      "[libx264 @ 000001607ad59dc0] frame P:53    Avg QP:18.54  size:  3765\n",
      "[libx264 @ 000001607ad59dc0] frame B:47    Avg QP:19.28  size:   383\n",
      "[libx264 @ 000001607ad59dc0] consecutive B-frames: 25.7% 27.7% 26.7% 19.8%\n",
      "[libx264 @ 000001607ad59dc0] mb I  I16..4: 50.7%  9.5% 39.8%\n",
      "[libx264 @ 000001607ad59dc0] mb P  I16..4:  0.1%  0.2%  0.1%  P16..4: 13.0%  2.3%  2.2%  0.0%  0.0%    skip:82.2%\n",
      "[libx264 @ 000001607ad59dc0] mb B  I16..4:  0.6%  0.7%  0.0%  B16..8:  7.4%  0.2%  0.0%  direct: 0.1%  skip:91.0%  L0:42.6% L1:56.8% BI: 0.6%\n",
      "[libx264 @ 000001607ad59dc0] 8x8 transform intra:30.6% inter:16.0%\n",
      "[libx264 @ 000001607ad59dc0] coded y,uvDC,uvAC intra: 15.0% 21.0% 18.1% inter: 2.6% 3.6% 2.8%\n",
      "[libx264 @ 000001607ad59dc0] i16 v,h,dc,p: 71% 21%  9%  0%\n",
      "[libx264 @ 000001607ad59dc0] i8 v,h,dc,ddl,ddr,vr,hd,vl,hu: 13%  4% 82%  0%  0%  0%  0%  0%  0%\n",
      "[libx264 @ 000001607ad59dc0] i4 v,h,dc,ddl,ddr,vr,hd,vl,hu: 52% 24% 10%  1%  2%  1%  4%  2%  4%\n",
      "[libx264 @ 000001607ad59dc0] i8c dc,h,v,p: 59% 21% 20%  0%\n",
      "[libx264 @ 000001607ad59dc0] Weighted P-Frames: Y:0.0% UV:0.0%\n",
      "[libx264 @ 000001607ad59dc0] ref P L0: 92.7%  0.8%  4.7%  1.8%\n",
      "[libx264 @ 000001607ad59dc0] ref B L0: 46.0% 39.5% 14.5%\n",
      "[libx264 @ 000001607ad59dc0] ref B L1: 99.5%  0.5%\n",
      "[libx264 @ 000001607ad59dc0] kb/s:219.74\n"
     ]
    }
   ],
   "source": [
    "!echo Y | ffmpeg -r 10 -i frames\\frame_%03d.png -vcodec libx264 -pix_fmt yuv420p saddle_node.mp4\n"
   ]
  },
  {
   "cell_type": "code",
   "execution_count": null,
   "id": "b7ad3018",
   "metadata": {
    "vscode": {
     "languageId": "bat"
    }
   },
   "outputs": [],
   "source": []
  }
 ],
 "metadata": {
  "kernelspec": {
   "display_name": "Python 3",
   "language": "python",
   "name": "python3"
  },
  "language_info": {
   "codemirror_mode": {
    "name": "ipython",
    "version": 3
   },
   "file_extension": ".py",
   "mimetype": "text/x-python",
   "name": "python",
   "nbconvert_exporter": "python",
   "pygments_lexer": "ipython3",
   "version": "3.13.1"
  }
 },
 "nbformat": 4,
 "nbformat_minor": 5
}
